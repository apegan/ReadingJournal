{
 "cells": [
  {
   "cell_type": "markdown",
   "metadata": {},
   "source": [
    "# Day 10 Reading Journal\n",
    "\n",
    "This journal includes several required exercises, but it is meant to encourage active reading more generally.  You should use the journal to take detailed notes, catalog questions, and explore the content from Think Python deeply.\n",
    "\n",
    "Reading: Review Think Python Chapters 15-17\n",
    "\n",
    "**Due: Thursday, February 23 at 12 noon**\n",
    "\n"
   ]
  },
  {
   "cell_type": "markdown",
   "metadata": {},
   "source": [
    "## [Chapter 15](http://www.greenteapress.com/thinkpython2/html/thinkpython2016.html), [Chapter 16](http://www.greenteapress.com/thinkpython2/html/thinkpython2017.html), [Chapter 17](http://www.greenteapress.com/thinkpython2/html/thinkpython2018.html)\n",
    "\n",
    "\n",
    "By the end of chapter 17, we have all the tools we need to create our own user-defined types known as classes. In this reading journal, we're asking you to review and solidify your understanding of this material so we can build on it for the rest of the course. \n",
    "\n",
    "If you didn't get a chance to fully complete the Day 9 reading journal, you may want to do so now."
   ]
  },
  {
   "cell_type": "markdown",
   "metadata": {
    "problem": "Terminology"
   },
   "source": [
    "### Terminology\n",
    "\n",
    "You should be familiar with the following list of terms and concepts. If any of them are unclear to you, re-read, ask, write a definition in your own words, and try an example if appropriate.\n",
    "\n",
    " - class\n",
    "     The simplest form of class definition looks like this:\n",
    "     class Classname:\n",
    "        <statement-1>\n",
    "        .\n",
    "        .\n",
    "        .\n",
    "        <statement-N>\n",
    "        \n",
    " - object\n",
    " - instance\n",
    "     Just pretend that the class object is a parameterless function that returns a new instance of the class. For example: x = MyClass() creates a new instance of the class and assigns this object to the local variable x.\n",
    "\n",
    "\n",
    " \n",
    " - attribute\n",
    "       Attribute references use the standard syntax used for all      attribute references in Python: obj.name.\n",
    "    Example: \n",
    "    class MyClass:\n",
    "        \"\"\"A simple example class\"\"\"\n",
    "        i = 12345\n",
    "\n",
    "        def f(self):\n",
    "            return 'hello world'\n",
    "    then MyClass.i and MyClass.f are valid attribute references, returning an integer and a function object, respectively\n",
    "    \n",
    " - method\n",
    "     A method is a function that “belongs to” an object. (In Python, the term method is not unique to class instances: other object types can have methods as well. For example, list objects have methods called append, insert, remove, sort, and so on. However, in the following discussion, we’ll use the term method exclusively to mean methods of class instance objects, unless explicitly stated otherwise.)\n",
    "     Usually, a method is called right after it is bound:\n",
    "     x.f()\n",
    "     \n",
    " - shallow vs deep copying\n",
    " - pure functions vs modifiers\n",
    " \n",
    " \n",
    " - initializing object instances\n",
    "     The instantiation operation (“calling” a class object) creates an empty object. Many classes like to create objects with instances customized to a specific initial state. Therefore a class may define a special method named __init__(), like this:\n",
    "    def __init__(self):\n",
    "        self.data = []\n",
    " "
   ]
  },
  {
   "cell_type": "markdown",
   "metadata": {
    "is_question": true,
    "problem": "Exercise 1"
   },
   "source": [
    "### Exercise\n",
    "\n",
    "We're going to take the first steps toward writing a calendar application. To keep things simple, we'll restrict ourselves to a single day for now. Write an `Event` class with the following attributes:\n",
    "\n",
    " - `name`  : Title for the `Event`\n",
    " - `start` : `Time` object representing the start time for the `Event`\n",
    " - `end`   : `Time` object representing the end time for the `Event`\n",
    "\n",
    "You can also augment your `Event` class with additional attributes, such as location and attendees.\n",
    "\n",
    "Write `__init__` and `__str__` methods for your `Event` class."
   ]
  },
  {
   "cell_type": "code",
   "execution_count": 1,
   "metadata": {
    "collapsed": true,
    "solution": "Exercise 1"
   },
   "outputs": [],
   "source": [
    "class Event:\n",
    "    '''\n",
    "    attributes: name, start, end\n",
    "    \n",
    "    name: Title for the Event\n",
    "    start : Time object representing the start time\n",
    "    end: Time object representing the end time\n",
    "    '''\n",
    "    def __init__(self, start, end):\n",
    "        '''\n",
    "        initialize a event object\n",
    "        \n",
    "        name: str\n",
    "        start: int\n",
    "        end: int\n",
    "        '''\n",
    "        \n",
    "        self.name = name\n",
    "        self.start = start\n",
    "        self.end = end\n",
    "    \n",
    "    def __str__(self):\n",
    "        '''\n",
    "        returns a string representation of the event\n",
    "        '''\n",
    "        return '%.2d:%.2d:%2d' % (self.name, self.start, self.end)\n",
    "    \n",
    "    "
   ]
  },
  {
   "cell_type": "markdown",
   "metadata": {
    "is_question": true,
    "problem": "Exercise 2"
   },
   "source": [
    "### Exercise\n",
    "\n",
    "Write a `duration` method that returns the duration of the `Event` in minutes."
   ]
  },
  {
   "cell_type": "code",
   "execution_count": null,
   "metadata": {
    "collapsed": true,
    "solution": "Exercise 2"
   },
   "outputs": [],
   "source": [
    "class Event:\n",
    "    '''\n",
    "    attributes: name, start, end\n",
    "    \n",
    "    name: Title for the Event\n",
    "    start : Time object representing the start time\n",
    "    end: Time object representing the end time\n",
    "    '''\n",
    "    def __init__(self, start, end):\n",
    "        '''\n",
    "        initialize a event object\n",
    "        \n",
    "        name: str\n",
    "        start: int\n",
    "        end: int\n",
    "        '''\n",
    "        \n",
    "        self.name = name\n",
    "        self.start = start\n",
    "        self.end = end\n",
    "    \n",
    "    def __str__(self):\n",
    "        '''\n",
    "        returns a string representation of the event\n",
    "        '''\n",
    "        return '%.2d:%.2d:%2d' % (self.name, self.start, self.end)\n",
    "    \n",
    "    \n",
    "    def duration(self, other):\n",
    "        '''\n",
    "        returns the duration of the Event in minutes\n",
    "        '''\n",
    "        assert self.is_valid() and other.is_valid()\n",
    "        start.mins = self.start*60\n",
    "        end.mins = self.end*60\n",
    "        duration = end.mins - start.mins\n",
    "        return duration"
   ]
  },
  {
   "cell_type": "markdown",
   "metadata": {
    "is_question": true,
    "problem": "Exercise 3"
   },
   "source": [
    "### Exercise\n",
    "\n",
    "Write an `Agenda` class that contains several `Event`s for the day.\n",
    "\n",
    "**Quick check: ** How should you store `Event`s within your `Agenda` class?\n"
   ]
  },
  {
   "cell_type": "markdown",
   "metadata": {},
   "source": [
    "lists? Like the kangaroo pouch?"
   ]
  },
  {
   "cell_type": "markdown",
   "metadata": {},
   "source": [
    " "
   ]
  },
  {
   "cell_type": "markdown",
   "metadata": {},
   "source": [
    "Your `Agenda` class should include a `print_agenda` method that prints out your schedule for the day, in order.\n",
    "\n",
    "**Optional:** Include a `is_feasible` method that returns `True` if your schedule has no time conflicts. You may want to write additional helper methods for the `Event` class to make this easier."
   ]
  },
  {
   "cell_type": "code",
   "execution_count": null,
   "metadata": {
    "collapsed": true,
    "solution": "Exercise 3"
   },
   "outputs": [],
   "source": [
    "class Agenda:\n",
    "    '''\n",
    "    Agenda with attributes events\n",
    "    Agenda with add_to_agenda\n",
    "    '''\n",
    "    def __init__(self, name, calendar=None):\n",
    "        '''\n",
    "        Initialize an Agenda object\n",
    "        attribute events\n",
    "        name : string\n",
    "        calendar : initial calendar events\n",
    "        '''\n",
    "        self.name = name\n",
    "        if calendar == None:\n",
    "            calendar = []\n",
    "        self.events = calendar\n",
    "    \n",
    "    def __str__(self):\n",
    "        '''\n",
    "        returns a string representation of agenda\n",
    "        '''\n",
    "        t = [self.name + ' has calendar events']\n",
    "        for obj in self.events:\n",
    "            s = '   ' + object.__str__(obj)\n",
    "            t.append(s)\n",
    "        return '\\n'.join(t)\n",
    "    \n",
    "    def add_to_agenda(self, event):\n",
    "        '''\n",
    "        adds a new event to the agenda\n",
    "        '''\n",
    "        self.events.append(event)"
   ]
  },
  {
   "cell_type": "markdown",
   "metadata": {
    "is_question": true,
    "problem": "Exercise 4"
   },
   "source": [
    "### Going Beyond (optional)\n",
    "\n",
    "Some ideas for taking your application further:\n",
    " - Add people and/or places to the mix to create a scheduling assistant\n",
    " - Extend support for day-of-week or full date. A word of warning: dealing with dates and times in real applications is difficult due to the huge number of special cases (Perfect example: this reading journal is due on Leap Day). Consider using something like the Python [datetime](https://docs.python.org/3/library/datetime.html) module.\n",
    " - Use pickle or some other persistence strategy to save and load your `Agenda`."
   ]
  },
  {
   "cell_type": "code",
   "execution_count": null,
   "metadata": {
    "collapsed": true,
    "solution": "Exercise 4"
   },
   "outputs": [],
   "source": []
  },
  {
   "cell_type": "markdown",
   "metadata": {
    "poll_response": true,
    "solution": "Time spent"
   },
   "source": [
    " "
   ]
  },
  {
   "cell_type": "markdown",
   "metadata": {
    "is_question": true,
    "problem": "Feedback"
   },
   "source": [
    "## Reading Journal feedback\n",
    "\n",
    "[Please complete this short survey](https://docs.google.com/forms/d/e/1FAIpQLScQekhUrf6YYjpfQiAAbavLIA-IJklv_PX1BWbGgxj7JPolmw/viewform?c=0&w=1)\n",
    "\n",
    "If you have any comments on this Reading Journal, feel free to leave them in the survey linked above. This could include suggestions to improve the exercises, topics you'd like to see covered in class next time, or other feedback.\n",
    "\n",
    "If you have Python questions or run into problems while completing the reading, you should post them to Piazza instead so you can get a quick response before your journal is submitted."
   ]
  },
  {
   "cell_type": "markdown",
   "metadata": {
    "feedback_response": true,
    "solution": "Feedback"
   },
   "source": [
    " "
   ]
  }
 ],
 "metadata": {
  "kernelspec": {
   "display_name": "Python 3",
   "language": "python",
   "name": "python3"
  },
  "language_info": {
   "codemirror_mode": {
    "name": "ipython",
    "version": 3
   },
   "file_extension": ".py",
   "mimetype": "text/x-python",
   "name": "python",
   "nbconvert_exporter": "python",
   "pygments_lexer": "ipython3",
   "version": "3.5.2"
  }
 },
 "nbformat": 4,
 "nbformat_minor": 0
}
